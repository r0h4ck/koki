{
 "cells": [
  {
   "cell_type": "code",
   "execution_count": 1,
   "id": "79b4bc46-1bf7-405b-92e8-b2116e544d76",
   "metadata": {},
   "outputs": [],
   "source": [
    "import numpy as np"
   ]
  },
  {
   "cell_type": "code",
   "execution_count": 5,
   "id": "3cfe8c02-6c56-4a0c-82b1-332c8a72430e",
   "metadata": {},
   "outputs": [],
   "source": [
    "x = np.arange(1, 13, 1)"
   ]
  },
  {
   "cell_type": "code",
   "execution_count": 6,
   "id": "3cd59326-a450-4390-b3f9-fe2e32f79ba8",
   "metadata": {},
   "outputs": [
    {
     "data": {
      "text/plain": [
       "array([ 1,  2,  3,  4,  5,  6,  7,  8,  9, 10, 11, 12])"
      ]
     },
     "execution_count": 6,
     "metadata": {},
     "output_type": "execute_result"
    }
   ],
   "source": [
    "x"
   ]
  },
  {
   "cell_type": "code",
   "execution_count": 7,
   "id": "c7abd0af-251b-4ff6-bc62-327f96599ed4",
   "metadata": {},
   "outputs": [],
   "source": [
    "y = np.array([6, 5, 11, 13, 15, 20, 24, 25, 24, 26, 28, 19])"
   ]
  },
  {
   "cell_type": "code",
   "execution_count": 8,
   "id": "a4901269-28e0-4d44-a575-5185b843830b",
   "metadata": {},
   "outputs": [
    {
     "data": {
      "text/plain": [
       "array([ 6,  5, 11, 13, 15, 20, 24, 25, 24, 26, 28, 19])"
      ]
     },
     "execution_count": 8,
     "metadata": {},
     "output_type": "execute_result"
    }
   ],
   "source": [
    "y"
   ]
  },
  {
   "cell_type": "code",
   "execution_count": 9,
   "id": "395a7285-e09d-47bb-bfaf-c5dd2249cdf4",
   "metadata": {},
   "outputs": [],
   "source": [
    "x_av = np.average(x)\n",
    "y_av = np.average(y)"
   ]
  },
  {
   "cell_type": "code",
   "execution_count": 11,
   "id": "f32b3285-a425-403e-9c2b-9e4b83edf1d3",
   "metadata": {},
   "outputs": [
    {
     "data": {
      "text/plain": [
       "6.5"
      ]
     },
     "execution_count": 11,
     "metadata": {},
     "output_type": "execute_result"
    }
   ],
   "source": [
    "x_av"
   ]
  },
  {
   "cell_type": "code",
   "execution_count": 12,
   "id": "25f85ab9-6fbc-4548-b682-4a91b70ada52",
   "metadata": {},
   "outputs": [
    {
     "data": {
      "text/plain": [
       "18.0"
      ]
     },
     "execution_count": 12,
     "metadata": {},
     "output_type": "execute_result"
    }
   ],
   "source": [
    "y_av"
   ]
  },
  {
   "cell_type": "code",
   "execution_count": 13,
   "id": "efa1f785-5451-43e6-bd6d-7fedaaa1374a",
   "metadata": {},
   "outputs": [],
   "source": [
    "disp = np.var(x)"
   ]
  },
  {
   "cell_type": "code",
   "execution_count": 14,
   "id": "a3770a91-343c-4371-b910-64a23b51bb32",
   "metadata": {},
   "outputs": [
    {
     "data": {
      "text/plain": [
       "11.916666666666666"
      ]
     },
     "execution_count": 14,
     "metadata": {},
     "output_type": "execute_result"
    }
   ],
   "source": [
    "disp"
   ]
  },
  {
   "cell_type": "code",
   "execution_count": 17,
   "id": "160ca3aa-26aa-45f3-8a1e-a0ef6244556d",
   "metadata": {},
   "outputs": [],
   "source": [
    "covariation = np.cov(x, y)"
   ]
  },
  {
   "cell_type": "code",
   "execution_count": 19,
   "id": "4dd4e3f9-1aca-4828-b344-83ce906c55f1",
   "metadata": {},
   "outputs": [
    {
     "data": {
      "text/plain": [
       "24.727272727272727"
      ]
     },
     "execution_count": 19,
     "metadata": {},
     "output_type": "execute_result"
    }
   ],
   "source": [
    "covariation[0][1]"
   ]
  },
  {
   "cell_type": "code",
   "execution_count": 29,
   "id": "14af27ec-9cb9-4f71-97f9-9a972456d374",
   "metadata": {},
   "outputs": [],
   "source": [
    "sum_x = 0\n",
    "for x_i in x:\n",
    "    sum_x += pow(x_i-x_av, 2)\n",
    "disp_by_formula = sum_x / (len(x))"
   ]
  },
  {
   "cell_type": "code",
   "execution_count": 30,
   "id": "e80b7df8-bb6d-4f02-8764-6a96b0474f15",
   "metadata": {},
   "outputs": [
    {
     "data": {
      "text/plain": [
       "11.916666666666666"
      ]
     },
     "execution_count": 30,
     "metadata": {},
     "output_type": "execute_result"
    }
   ],
   "source": [
    "disp_by_formula"
   ]
  },
  {
   "cell_type": "code",
   "execution_count": 33,
   "id": "e79a3bba-b657-4374-947d-b5c82c80106e",
   "metadata": {},
   "outputs": [],
   "source": [
    "sum_x_y = 0\n",
    "for (x_i, y_i) in zip(x, y):\n",
    "    sum_x_y += (x_i - x_av) * (y_i - y_av)\n",
    "covariation_by_formula = sum_x_y / (len(x) - 1)"
   ]
  },
  {
   "cell_type": "code",
   "execution_count": 34,
   "id": "d0ab1007-dbb1-40b8-bb72-95711cb968f1",
   "metadata": {},
   "outputs": [
    {
     "data": {
      "text/plain": [
       "24.727272727272727"
      ]
     },
     "execution_count": 34,
     "metadata": {},
     "output_type": "execute_result"
    }
   ],
   "source": [
    "covariation_by_formula"
   ]
  },
  {
   "cell_type": "code",
   "execution_count": 35,
   "id": "7f8abc76-6050-482c-b041-0ea8c99144a1",
   "metadata": {},
   "outputs": [],
   "source": [
    "a_mnk = covariation[0][1] / disp"
   ]
  },
  {
   "cell_type": "code",
   "execution_count": 36,
   "id": "123c3232-17e0-4fcf-b6c6-dac6bdfd57a1",
   "metadata": {},
   "outputs": [
    {
     "data": {
      "text/plain": [
       "2.0750158931977114"
      ]
     },
     "execution_count": 36,
     "metadata": {},
     "output_type": "execute_result"
    }
   ],
   "source": [
    "a_mnk"
   ]
  },
  {
   "cell_type": "code",
   "execution_count": 55,
   "id": "ad99d6c4-4d96-4dcc-84e6-91a6f1ea0a1e",
   "metadata": {},
   "outputs": [],
   "source": [
    "b = y_av - a_mnk * x_av"
   ]
  },
  {
   "cell_type": "code",
   "execution_count": 56,
   "id": "5b4ea788-3f65-440f-b9d1-bdbb3798c4f2",
   "metadata": {},
   "outputs": [
    {
     "data": {
      "text/plain": [
       "4.5123966942148765"
      ]
     },
     "execution_count": 56,
     "metadata": {},
     "output_type": "execute_result"
    }
   ],
   "source": [
    "b"
   ]
  },
  {
   "cell_type": "code",
   "execution_count": 57,
   "id": "68dab900-93d1-4100-a397-7655daf2fd6e",
   "metadata": {},
   "outputs": [],
   "source": [
    "y_2 = [a_mnk * x_i + b for x_i in x]\n",
    "sum_1 = 0\n",
    "sum_2 = 0\n",
    "for (y_i_2, y_i) in zip(y_2, y):\n",
    "    sum_1 += pow(y_i_2 - y_av, 2)\n",
    "    sum_2 += pow(y_i - y_av, 2)\n",
    "R_2 = sum_1 / sum_2"
   ]
  },
  {
   "cell_type": "code",
   "execution_count": 58,
   "id": "41530fc6-d4e5-4f9e-b709-f52a5ddcc153",
   "metadata": {},
   "outputs": [
    {
     "data": {
      "text/plain": [
       "0.8975419924989838"
      ]
     },
     "execution_count": 58,
     "metadata": {},
     "output_type": "execute_result"
    }
   ],
   "source": [
    "R_2"
   ]
  },
  {
   "cell_type": "code",
   "execution_count": 59,
   "id": "11a29939-d28f-4fa0-9f69-aca291f76ea9",
   "metadata": {},
   "outputs": [],
   "source": [
    "sum_3 = 0\n",
    "for (y_i, y_i_2) in zip(y, y_2):\n",
    "    sum_3 += (y_i - y_i_2) / y_i\n",
    "e = abs(sum_3 * 100 / len(y))"
   ]
  },
  {
   "cell_type": "code",
   "execution_count": 60,
   "id": "9fb393a8-39f6-4c00-81bf-b41fa08d6d7d",
   "metadata": {},
   "outputs": [
    {
     "data": {
      "text/plain": [
       "6.105028602519153"
      ]
     },
     "execution_count": 60,
     "metadata": {},
     "output_type": "execute_result"
    }
   ],
   "source": [
    "e"
   ]
  },
  {
   "cell_type": "code",
   "execution_count": 61,
   "id": "66819470-82cd-4767-8833-ca9ccc35d9a4",
   "metadata": {},
   "outputs": [],
   "source": [
    "import matplotlib.pyplot as plt"
   ]
  },
  {
   "cell_type": "code",
   "execution_count": 62,
   "id": "9733ccb8-93ac-4257-98a2-21a0fefcf9f7",
   "metadata": {},
   "outputs": [],
   "source": [
    "y_final = [a_mnk * x_i + b + e/100 for x_i in x]"
   ]
  },
  {
   "cell_type": "code",
   "execution_count": 63,
   "id": "da2dc2fd-9a65-45bb-9204-3edab453e007",
   "metadata": {},
   "outputs": [
    {
     "data": {
      "text/plain": [
       "[6.64846287343778,\n",
       " 8.72347876663549,\n",
       " 10.798494659833201,\n",
       " 12.873510553030913,\n",
       " 14.948526446228625,\n",
       " 17.023542339426335,\n",
       " 19.09855823262405,\n",
       " 21.17357412582176,\n",
       " 23.248590019019474,\n",
       " 25.323605912217182,\n",
       " 27.398621805414898,\n",
       " 29.473637698612606]"
      ]
     },
     "execution_count": 63,
     "metadata": {},
     "output_type": "execute_result"
    }
   ],
   "source": [
    "y_final"
   ]
  },
  {
   "cell_type": "code",
   "execution_count": 64,
   "id": "23d59c59-6c8d-4950-9890-b2de4ed1e32a",
   "metadata": {},
   "outputs": [
    {
     "data": {
      "text/plain": [
       "Text(0.5, 1.0, 'Linial regression')"
      ]
     },
     "execution_count": 64,
     "metadata": {},
     "output_type": "execute_result"
    },
    {
     "data": {
      "image/png": "[encoded data removed]",
      "text/plain": [
       "<Figure size 640x480 with 1 Axes>"
      ]
     },
     "metadata": {},
     "output_type": "display_data"
    }
   ],
   "source": [
    "plt.scatter(x, y, color='blue', marker='o')\n",
    "plt.plot(x, y_final, color='green')\n",
    "plt.xlabel('x')\n",
    "plt.ylabel('y')\n",
    "plt.title('Linial regression')"
   ]
  },
  {
   "cell_type": "code",
   "execution_count": 54,
   "id": "da3e1237-506d-434f-aefa-ad0fc4adef2e",
   "metadata": {},
   "outputs": [
    {
     "data": {
      "image/png": "[encoded data removed]",
      "text/plain": [
       "<Figure size 640x480 with 1 Axes>"
      ]
     },
     "metadata": {},
     "output_type": "display_data"
    }
   ],
   "source": [
    "from sklearn.model_selection import train_test_split\n",
    "X_train, X_test, y_train, y_test = train_test_split(x, y, test_size=0.2, random_state=0)\n",
    "\n",
    "regressor = LinearRegression()\n",
    "regressor.fit(X_train.reshape((-1, 1)), y_train)\n",
    "\n",
    "y_pred = regressor.predict(X_test.reshape((-1, 1)))\n",
    "\n",
    "plt.scatter(X_train, y_train,color='g')\n",
    "plt.plot(X_test, y_pred,color='k')\n",
    "\n",
    "plt.show()\n"
   ]
  },
  {
   "cell_type": "code",
   "execution_count": null,
   "id": "fb697b12-7faa-4cfd-b056-f6ee88dd6b92",
   "metadata": {},
   "outputs": [],
   "source": []
  }
 ],
 "metadata": {
  "kernelspec": {
   "display_name": "Python 3 (ipykernel)",
   "language": "python",
   "name": "python3"
  },
  "language_info": {
   "codemirror_mode": {
    "name": "ipython",
    "version": 3
   },
   "file_extension": ".py",
   "mimetype": "text/x-python",
   "name": "python",
   "nbconvert_exporter": "python",
   "pygments_lexer": "ipython3",
   "version": "3.8.10"
  }
 },
 "nbformat": 4,
 "nbformat_minor": 5
}
